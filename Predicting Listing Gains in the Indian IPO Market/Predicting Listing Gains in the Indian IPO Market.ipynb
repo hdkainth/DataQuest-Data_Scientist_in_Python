{
 "cells": [
  {
   "cell_type": "code",
   "execution_count": 1,
   "metadata": {},
   "outputs": [],
   "source": [
    "import numpy as np \n",
    "import pandas as pd \n",
    "import seaborn as sns\n",
    "import matplotlib.pyplot as plt\n",
    "import tensorflow as tf\n",
    "\n",
    "from tensorflow import keras\n",
    "from tensorflow.keras import layers\n",
    "from sklearn.model_selection import train_test_split"
   ]
  },
  {
   "cell_type": "code",
   "execution_count": 2,
   "metadata": {},
   "outputs": [
    {
     "data": {
      "text/plain": [
       "(319, 9)"
      ]
     },
     "execution_count": 2,
     "metadata": {},
     "output_type": "execute_result"
    }
   ],
   "source": [
    "df = pd.read_csv(\"Indian_IPO_Market_Data.csv\")\n",
    "df.shape"
   ]
  },
  {
   "cell_type": "code",
   "execution_count": 3,
   "metadata": {},
   "outputs": [
    {
     "name": "stdout",
     "output_type": "stream",
     "text": [
      "<class 'pandas.core.frame.DataFrame'>\n",
      "RangeIndex: 319 entries, 0 to 318\n",
      "Data columns (total 9 columns):\n",
      " #   Column                 Non-Null Count  Dtype  \n",
      "---  ------                 --------------  -----  \n",
      " 0   Date                   319 non-null    object \n",
      " 1   IPOName                319 non-null    object \n",
      " 2   Issue_Size             319 non-null    float64\n",
      " 3   Subscription_QIB       319 non-null    float64\n",
      " 4   Subscription_HNI       319 non-null    float64\n",
      " 5   Subscription_RII       319 non-null    float64\n",
      " 6   Subscription_Total     319 non-null    float64\n",
      " 7   Issue_Price            319 non-null    int64  \n",
      " 8   Listing_Gains_Percent  319 non-null    float64\n",
      "dtypes: float64(6), int64(1), object(2)\n",
      "memory usage: 22.6+ KB\n"
     ]
    }
   ],
   "source": [
    "df.info()"
   ]
  },
  {
   "cell_type": "code",
   "execution_count": 4,
   "metadata": {},
   "outputs": [
    {
     "data": {
      "text/plain": [
       "count    319.000000\n",
       "mean       4.742696\n",
       "std       47.650946\n",
       "min      -97.150000\n",
       "25%      -11.555000\n",
       "50%        1.810000\n",
       "75%       25.310000\n",
       "max      270.400000\n",
       "Name: Listing_Gains_Percent, dtype: float64"
      ]
     },
     "execution_count": 4,
     "metadata": {},
     "output_type": "execute_result"
    }
   ],
   "source": [
    "df[\"Listing_Gains_Percent\"].describe()"
   ]
  },
  {
   "cell_type": "code",
   "execution_count": 5,
   "metadata": {},
   "outputs": [
    {
     "data": {
      "text/html": [
       "<div>\n",
       "<style scoped>\n",
       "    .dataframe tbody tr th:only-of-type {\n",
       "        vertical-align: middle;\n",
       "    }\n",
       "\n",
       "    .dataframe tbody tr th {\n",
       "        vertical-align: top;\n",
       "    }\n",
       "\n",
       "    .dataframe thead th {\n",
       "        text-align: right;\n",
       "    }\n",
       "</style>\n",
       "<table border=\"1\" class=\"dataframe\">\n",
       "  <thead>\n",
       "    <tr style=\"text-align: right;\">\n",
       "      <th></th>\n",
       "      <th>Issue_Size</th>\n",
       "      <th>Subscription_QIB</th>\n",
       "      <th>Subscription_HNI</th>\n",
       "      <th>Subscription_RII</th>\n",
       "      <th>Subscription_Total</th>\n",
       "      <th>Issue_Price</th>\n",
       "      <th>Listing_Gains_Percent</th>\n",
       "    </tr>\n",
       "  </thead>\n",
       "  <tbody>\n",
       "    <tr>\n",
       "      <th>count</th>\n",
       "      <td>319.000000</td>\n",
       "      <td>319.000000</td>\n",
       "      <td>319.000000</td>\n",
       "      <td>319.000000</td>\n",
       "      <td>319.000000</td>\n",
       "      <td>319.000000</td>\n",
       "      <td>319.000000</td>\n",
       "    </tr>\n",
       "    <tr>\n",
       "      <th>mean</th>\n",
       "      <td>1192.859969</td>\n",
       "      <td>25.684138</td>\n",
       "      <td>70.091379</td>\n",
       "      <td>8.561599</td>\n",
       "      <td>27.447147</td>\n",
       "      <td>375.128527</td>\n",
       "      <td>4.742696</td>\n",
       "    </tr>\n",
       "    <tr>\n",
       "      <th>std</th>\n",
       "      <td>2384.643786</td>\n",
       "      <td>40.716782</td>\n",
       "      <td>142.454416</td>\n",
       "      <td>14.508670</td>\n",
       "      <td>48.772203</td>\n",
       "      <td>353.897614</td>\n",
       "      <td>47.650946</td>\n",
       "    </tr>\n",
       "    <tr>\n",
       "      <th>min</th>\n",
       "      <td>0.000000</td>\n",
       "      <td>0.000000</td>\n",
       "      <td>0.000000</td>\n",
       "      <td>0.000000</td>\n",
       "      <td>0.000000</td>\n",
       "      <td>0.000000</td>\n",
       "      <td>-97.150000</td>\n",
       "    </tr>\n",
       "    <tr>\n",
       "      <th>25%</th>\n",
       "      <td>169.005000</td>\n",
       "      <td>1.150000</td>\n",
       "      <td>1.255000</td>\n",
       "      <td>1.275000</td>\n",
       "      <td>1.645000</td>\n",
       "      <td>119.000000</td>\n",
       "      <td>-11.555000</td>\n",
       "    </tr>\n",
       "    <tr>\n",
       "      <th>50%</th>\n",
       "      <td>496.250000</td>\n",
       "      <td>4.940000</td>\n",
       "      <td>5.070000</td>\n",
       "      <td>3.420000</td>\n",
       "      <td>4.930000</td>\n",
       "      <td>250.000000</td>\n",
       "      <td>1.810000</td>\n",
       "    </tr>\n",
       "    <tr>\n",
       "      <th>75%</th>\n",
       "      <td>1100.000000</td>\n",
       "      <td>34.635000</td>\n",
       "      <td>62.095000</td>\n",
       "      <td>8.605000</td>\n",
       "      <td>33.395000</td>\n",
       "      <td>536.000000</td>\n",
       "      <td>25.310000</td>\n",
       "    </tr>\n",
       "    <tr>\n",
       "      <th>max</th>\n",
       "      <td>21000.000000</td>\n",
       "      <td>215.450000</td>\n",
       "      <td>958.070000</td>\n",
       "      <td>119.440000</td>\n",
       "      <td>326.490000</td>\n",
       "      <td>2150.000000</td>\n",
       "      <td>270.400000</td>\n",
       "    </tr>\n",
       "  </tbody>\n",
       "</table>\n",
       "</div>"
      ],
      "text/plain": [
       "         Issue_Size  Subscription_QIB  Subscription_HNI  Subscription_RII  \\\n",
       "count    319.000000        319.000000        319.000000        319.000000   \n",
       "mean    1192.859969         25.684138         70.091379          8.561599   \n",
       "std     2384.643786         40.716782        142.454416         14.508670   \n",
       "min        0.000000          0.000000          0.000000          0.000000   \n",
       "25%      169.005000          1.150000          1.255000          1.275000   \n",
       "50%      496.250000          4.940000          5.070000          3.420000   \n",
       "75%     1100.000000         34.635000         62.095000          8.605000   \n",
       "max    21000.000000        215.450000        958.070000        119.440000   \n",
       "\n",
       "       Subscription_Total  Issue_Price  Listing_Gains_Percent  \n",
       "count          319.000000   319.000000             319.000000  \n",
       "mean            27.447147   375.128527               4.742696  \n",
       "std             48.772203   353.897614              47.650946  \n",
       "min              0.000000     0.000000             -97.150000  \n",
       "25%              1.645000   119.000000             -11.555000  \n",
       "50%              4.930000   250.000000               1.810000  \n",
       "75%             33.395000   536.000000              25.310000  \n",
       "max            326.490000  2150.000000             270.400000  "
      ]
     },
     "execution_count": 5,
     "metadata": {},
     "output_type": "execute_result"
    }
   ],
   "source": [
    "df.describe()"
   ]
  },
  {
   "cell_type": "code",
   "execution_count": 6,
   "metadata": {},
   "outputs": [],
   "source": [
    "df[\"Listing_Gains_Profit\"] = np.where(df[\"Listing_Gains_Percent\"] > 0, 1, 0)"
   ]
  },
  {
   "cell_type": "code",
   "execution_count": 7,
   "metadata": {},
   "outputs": [
    {
     "data": {
      "text/plain": [
       "count    319.000000\n",
       "mean       0.545455\n",
       "std        0.498712\n",
       "min        0.000000\n",
       "25%        0.000000\n",
       "50%        1.000000\n",
       "75%        1.000000\n",
       "max        1.000000\n",
       "Name: Listing_Gains_Profit, dtype: float64"
      ]
     },
     "execution_count": 7,
     "metadata": {},
     "output_type": "execute_result"
    }
   ],
   "source": [
    "df[\"Listing_Gains_Profit\"].describe()"
   ]
  },
  {
   "cell_type": "code",
   "execution_count": 8,
   "metadata": {},
   "outputs": [
    {
     "name": "stdout",
     "output_type": "stream",
     "text": [
      "<class 'pandas.core.frame.DataFrame'>\n",
      "RangeIndex: 319 entries, 0 to 318\n",
      "Data columns (total 7 columns):\n",
      " #   Column                Non-Null Count  Dtype  \n",
      "---  ------                --------------  -----  \n",
      " 0   Issue_Size            319 non-null    float64\n",
      " 1   Subscription_QIB      319 non-null    float64\n",
      " 2   Subscription_HNI      319 non-null    float64\n",
      " 3   Subscription_RII      319 non-null    float64\n",
      " 4   Subscription_Total    319 non-null    float64\n",
      " 5   Issue_Price           319 non-null    int64  \n",
      " 6   Listing_Gains_Profit  319 non-null    int64  \n",
      "dtypes: float64(5), int64(2)\n",
      "memory usage: 17.6 KB\n"
     ]
    }
   ],
   "source": [
    "df = df.drop(['Date ', 'IPOName', 'Listing_Gains_Percent'], axis=1)\n",
    "df.info()"
   ]
  },
  {
   "cell_type": "code",
   "execution_count": 9,
   "metadata": {},
   "outputs": [
    {
     "data": {
      "text/plain": [
       "1    174\n",
       "0    145\n",
       "Name: Listing_Gains_Profit, dtype: int64"
      ]
     },
     "execution_count": 9,
     "metadata": {},
     "output_type": "execute_result"
    }
   ],
   "source": [
    "df['Listing_Gains_Profit'].value_counts()"
   ]
  },
  {
   "cell_type": "code",
   "execution_count": 10,
   "metadata": {},
   "outputs": [
    {
     "data": {
      "text/plain": [
       "1    0.545455\n",
       "0    0.454545\n",
       "Name: Listing_Gains_Profit, dtype: float64"
      ]
     },
     "execution_count": 10,
     "metadata": {},
     "output_type": "execute_result"
    }
   ],
   "source": [
    "df['Listing_Gains_Profit'].value_counts(normalize=True)"
   ]
  },
  {
   "cell_type": "code",
   "execution_count": 11,
   "metadata": {},
   "outputs": [
    {
     "data": {
      "image/png": "[encoded data removed]",
      "text/plain": [
       "<Figure size 640x480 with 1 Axes>"
      ]
     },
     "metadata": {},
     "output_type": "display_data"
    }
   ],
   "source": [
    "# visualizing the target variable\n",
    "sns.countplot(x='Listing_Gains_Profit', data=df)\n",
    "plt.title('Distribution of IPO Listing Gains Profit')\n",
    "plt.xlabel('Listing Gains Profit (No=0, Yes=1)')\n",
    "plt.ylabel('Frequency')\n",
    "plt.show()"
   ]
  },
  {
   "cell_type": "code",
   "execution_count": 12,
   "metadata": {},
   "outputs": [
    {
     "data": {
      "image/png": "[encoded data removed]",
      "text/plain": [
       "<Figure size 640x480 with 1 Axes>"
      ]
     },
     "metadata": {},
     "output_type": "display_data"
    }
   ],
   "source": [
    "sns.boxplot(data=df, y='Issue_Size')\n",
    "plt.title('Boxplot of Issue_Size')\n",
    "plt.show()"
   ]
  },
  {
   "cell_type": "code",
   "execution_count": 13,
   "metadata": {},
   "outputs": [
    {
     "data": {
      "image/png": "[encoded data removed]",
      "text/plain": [
       "<Figure size 640x480 with 1 Axes>"
      ]
     },
     "metadata": {},
     "output_type": "display_data"
    }
   ],
   "source": [
    "sns.boxplot(data=df, y='Issue_Price')\n",
    "plt.title('Boxplot of Issue_Size')\n",
    "plt.show()"
   ]
  },
  {
   "cell_type": "code",
   "execution_count": 14,
   "metadata": {},
   "outputs": [
    {
     "data": {
      "image/png": "[encoded data removed]",
      "text/plain": [
       "<Figure size 640x480 with 1 Axes>"
      ]
     },
     "metadata": {},
     "output_type": "display_data"
    }
   ],
   "source": [
    "sns.boxplot(data=df, y='Subscription_QIB')\n",
    "plt.title('Boxplot of Subscription_QIB')\n",
    "plt.show()"
   ]
  },
  {
   "cell_type": "code",
   "execution_count": 15,
   "metadata": {},
   "outputs": [
    {
     "data": {
      "image/png": "[encoded data removed]",
      "text/plain": [
       "<Figure size 640x480 with 1 Axes>"
      ]
     },
     "metadata": {},
     "output_type": "display_data"
    }
   ],
   "source": [
    "sns.boxplot(data=df, x='Listing_Gains_Profit', y='Issue_Price')\n",
    "plt.title('Boxplot of Issue_Price with respect to Listing Gains Type')\n",
    "plt.xlabel('Listing Profit (No=0, Yes=1)')\n",
    "plt.show()"
   ]
  },
  {
   "cell_type": "code",
   "execution_count": 16,
   "metadata": {},
   "outputs": [
    {
     "data": {
      "text/plain": [
       "Issue_Size              4.853402\n",
       "Subscription_QIB        2.143705\n",
       "Subscription_HNI        3.078445\n",
       "Subscription_RII        3.708274\n",
       "Subscription_Total      2.911907\n",
       "Issue_Price             1.696881\n",
       "Listing_Gains_Profit   -0.183438\n",
       "dtype: float64"
      ]
     },
     "execution_count": 16,
     "metadata": {},
     "output_type": "execute_result"
    }
   ],
   "source": [
    "df.skew()"
   ]
  },
  {
   "cell_type": "code",
   "execution_count": 17,
   "metadata": {},
   "outputs": [
    {
     "name": "stdout",
     "output_type": "stream",
     "text": [
      "930.995\n",
      "-1227.4875000000002\n",
      "2496.4925000000003\n"
     ]
    },
    {
     "data": {
      "text/plain": [
       "count     319.000000\n",
       "mean      763.561238\n",
       "std       769.689122\n",
       "min         0.000000\n",
       "25%       169.005000\n",
       "50%       496.250000\n",
       "75%      1100.000000\n",
       "max      2496.492500\n",
       "Name: Issue_Size, dtype: float64"
      ]
     },
     "execution_count": 17,
     "metadata": {},
     "output_type": "execute_result"
    }
   ],
   "source": [
    "q1 = df['Issue_Size'].quantile(q=0.25)\n",
    "q3 = df['Issue_Size'].quantile(q=0.75)  \n",
    "iqr = q3 - q1   \n",
    "lower = (q1 - 1.5 * iqr) \n",
    "upper = (q3 + 1.5 * iqr) \n",
    "print(iqr)\n",
    "print(lower)\n",
    "print(upper)\n",
    "df['Issue_Size'] = df['Issue_Size'].clip(lower, upper)\n",
    "df['Issue_Size'].describe()"
   ]
  },
  {
   "cell_type": "code",
   "execution_count": 18,
   "metadata": {},
   "outputs": [
    {
     "name": "stdout",
     "output_type": "stream",
     "text": [
      "33.48500000000001\n",
      "-49.07750000000001\n",
      "84.86250000000001\n"
     ]
    },
    {
     "data": {
      "text/plain": [
       "count    319.000000\n",
       "mean      21.521183\n",
       "std       29.104549\n",
       "min        0.000000\n",
       "25%        1.150000\n",
       "50%        4.940000\n",
       "75%       34.635000\n",
       "max       84.862500\n",
       "Name: Subscription_QIB, dtype: float64"
      ]
     },
     "execution_count": 18,
     "metadata": {},
     "output_type": "execute_result"
    }
   ],
   "source": [
    "q1 = df['Subscription_QIB'].quantile(q=0.25)\n",
    "q3 = df['Subscription_QIB'].quantile(q=0.75)  \n",
    "iqr = q3 - q1   \n",
    "lower = (q1 - 1.5 * iqr) \n",
    "upper = (q3 + 1.5 * iqr) \n",
    "print(iqr)\n",
    "print(lower)\n",
    "print(upper)\n",
    "df['Subscription_QIB'] = df['Subscription_QIB'].clip(lower, upper)\n",
    "df['Subscription_QIB'].describe()"
   ]
  },
  {
   "cell_type": "code",
   "execution_count": 19,
   "metadata": {},
   "outputs": [
    {
     "name": "stdout",
     "output_type": "stream",
     "text": [
      "60.839999999999996\n",
      "-90.005\n",
      "153.355\n"
     ]
    },
    {
     "data": {
      "text/plain": [
       "count    319.000000\n",
       "mean      40.356426\n",
       "std       57.427921\n",
       "min        0.000000\n",
       "25%        1.255000\n",
       "50%        5.070000\n",
       "75%       62.095000\n",
       "max      153.355000\n",
       "Name: Subscription_HNI, dtype: float64"
      ]
     },
     "execution_count": 19,
     "metadata": {},
     "output_type": "execute_result"
    }
   ],
   "source": [
    "q1 = df['Subscription_HNI'].quantile(q=0.25)\n",
    "q3 = df['Subscription_HNI'].quantile(q=0.75)  \n",
    "iqr = q3 - q1   \n",
    "lower = (q1 - 1.5 * iqr) \n",
    "upper = (q3 + 1.5 * iqr) \n",
    "print(iqr)\n",
    "print(lower)\n",
    "print(upper)\n",
    "df['Subscription_HNI'] = df['Subscription_HNI'].clip(lower, upper)\n",
    "df['Subscription_HNI'].describe()"
   ]
  },
  {
   "cell_type": "code",
   "execution_count": 20,
   "metadata": {},
   "outputs": [
    {
     "name": "stdout",
     "output_type": "stream",
     "text": [
      "7.33\n",
      "-9.72\n",
      "19.6\n"
     ]
    },
    {
     "data": {
      "text/plain": [
       "count    319.000000\n",
       "mean       6.060940\n",
       "std        6.176882\n",
       "min        0.000000\n",
       "25%        1.275000\n",
       "50%        3.420000\n",
       "75%        8.605000\n",
       "max       19.600000\n",
       "Name: Subscription_RII, dtype: float64"
      ]
     },
     "execution_count": 20,
     "metadata": {},
     "output_type": "execute_result"
    }
   ],
   "source": [
    "q1 = df['Subscription_RII'].quantile(q=0.25)\n",
    "q3 = df['Subscription_RII'].quantile(q=0.75)  \n",
    "iqr = q3 - q1   \n",
    "lower = (q1 - 1.5 * iqr) \n",
    "upper = (q3 + 1.5 * iqr) \n",
    "print(iqr)\n",
    "print(lower)\n",
    "print(upper)\n",
    "df['Subscription_RII'] = df['Subscription_RII'].clip(lower, upper)\n",
    "df['Subscription_RII'].describe()"
   ]
  },
  {
   "cell_type": "code",
   "execution_count": 21,
   "metadata": {},
   "outputs": [
    {
     "name": "stdout",
     "output_type": "stream",
     "text": [
      "31.749999999999996\n",
      "-45.97999999999999\n",
      "81.01999999999998\n"
     ]
    },
    {
     "data": {
      "text/plain": [
       "count    319.000000\n",
       "mean      20.456646\n",
       "std       27.217740\n",
       "min        0.000000\n",
       "25%        1.645000\n",
       "50%        4.930000\n",
       "75%       33.395000\n",
       "max       81.020000\n",
       "Name: Subscription_Total, dtype: float64"
      ]
     },
     "execution_count": 21,
     "metadata": {},
     "output_type": "execute_result"
    }
   ],
   "source": [
    "q1 = df['Subscription_Total'].quantile(q=0.25)\n",
    "q3 = df['Subscription_Total'].quantile(q=0.75)  \n",
    "iqr = q3 - q1   \n",
    "lower = (q1 - 1.5 * iqr) \n",
    "upper = (q3 + 1.5 * iqr) \n",
    "print(iqr)\n",
    "print(lower)\n",
    "print(upper)\n",
    "df['Subscription_Total'] = df['Subscription_Total'].clip(lower, upper)\n",
    "df['Subscription_Total'].describe()"
   ]
  },
  {
   "cell_type": "code",
   "execution_count": 22,
   "metadata": {},
   "outputs": [
    {
     "data": {
      "text/html": [
       "<div>\n",
       "<style scoped>\n",
       "    .dataframe tbody tr th:only-of-type {\n",
       "        vertical-align: middle;\n",
       "    }\n",
       "\n",
       "    .dataframe tbody tr th {\n",
       "        vertical-align: top;\n",
       "    }\n",
       "\n",
       "    .dataframe thead th {\n",
       "        text-align: right;\n",
       "    }\n",
       "</style>\n",
       "<table border=\"1\" class=\"dataframe\">\n",
       "  <thead>\n",
       "    <tr style=\"text-align: right;\">\n",
       "      <th></th>\n",
       "      <th>Issue_Size</th>\n",
       "      <th>Subscription_QIB</th>\n",
       "      <th>Subscription_HNI</th>\n",
       "      <th>Subscription_RII</th>\n",
       "      <th>Subscription_Total</th>\n",
       "      <th>Issue_Price</th>\n",
       "      <th>Listing_Gains_Profit</th>\n",
       "    </tr>\n",
       "  </thead>\n",
       "  <tbody>\n",
       "    <tr>\n",
       "      <th>count</th>\n",
       "      <td>319.000000</td>\n",
       "      <td>319.000000</td>\n",
       "      <td>319.000000</td>\n",
       "      <td>319.000000</td>\n",
       "      <td>319.000000</td>\n",
       "      <td>319.000000</td>\n",
       "      <td>319.000000</td>\n",
       "    </tr>\n",
       "    <tr>\n",
       "      <th>mean</th>\n",
       "      <td>0.305854</td>\n",
       "      <td>0.253601</td>\n",
       "      <td>0.263157</td>\n",
       "      <td>0.309232</td>\n",
       "      <td>0.252489</td>\n",
       "      <td>0.174478</td>\n",
       "      <td>0.545455</td>\n",
       "    </tr>\n",
       "    <tr>\n",
       "      <th>std</th>\n",
       "      <td>0.308308</td>\n",
       "      <td>0.342961</td>\n",
       "      <td>0.374477</td>\n",
       "      <td>0.315147</td>\n",
       "      <td>0.335939</td>\n",
       "      <td>0.164604</td>\n",
       "      <td>0.498712</td>\n",
       "    </tr>\n",
       "    <tr>\n",
       "      <th>min</th>\n",
       "      <td>0.000000</td>\n",
       "      <td>0.000000</td>\n",
       "      <td>0.000000</td>\n",
       "      <td>0.000000</td>\n",
       "      <td>0.000000</td>\n",
       "      <td>0.000000</td>\n",
       "      <td>0.000000</td>\n",
       "    </tr>\n",
       "    <tr>\n",
       "      <th>25%</th>\n",
       "      <td>0.067697</td>\n",
       "      <td>0.013551</td>\n",
       "      <td>0.008184</td>\n",
       "      <td>0.065051</td>\n",
       "      <td>0.020304</td>\n",
       "      <td>0.055349</td>\n",
       "      <td>0.000000</td>\n",
       "    </tr>\n",
       "    <tr>\n",
       "      <th>50%</th>\n",
       "      <td>0.198779</td>\n",
       "      <td>0.058212</td>\n",
       "      <td>0.033061</td>\n",
       "      <td>0.174490</td>\n",
       "      <td>0.060849</td>\n",
       "      <td>0.116279</td>\n",
       "      <td>1.000000</td>\n",
       "    </tr>\n",
       "    <tr>\n",
       "      <th>75%</th>\n",
       "      <td>0.440618</td>\n",
       "      <td>0.408131</td>\n",
       "      <td>0.404910</td>\n",
       "      <td>0.439031</td>\n",
       "      <td>0.412182</td>\n",
       "      <td>0.249302</td>\n",
       "      <td>1.000000</td>\n",
       "    </tr>\n",
       "    <tr>\n",
       "      <th>max</th>\n",
       "      <td>1.000000</td>\n",
       "      <td>1.000000</td>\n",
       "      <td>1.000000</td>\n",
       "      <td>1.000000</td>\n",
       "      <td>1.000000</td>\n",
       "      <td>1.000000</td>\n",
       "      <td>1.000000</td>\n",
       "    </tr>\n",
       "  </tbody>\n",
       "</table>\n",
       "</div>"
      ],
      "text/plain": [
       "       Issue_Size  Subscription_QIB  Subscription_HNI  Subscription_RII  \\\n",
       "count  319.000000        319.000000        319.000000        319.000000   \n",
       "mean     0.305854          0.253601          0.263157          0.309232   \n",
       "std      0.308308          0.342961          0.374477          0.315147   \n",
       "min      0.000000          0.000000          0.000000          0.000000   \n",
       "25%      0.067697          0.013551          0.008184          0.065051   \n",
       "50%      0.198779          0.058212          0.033061          0.174490   \n",
       "75%      0.440618          0.408131          0.404910          0.439031   \n",
       "max      1.000000          1.000000          1.000000          1.000000   \n",
       "\n",
       "       Subscription_Total  Issue_Price  Listing_Gains_Profit  \n",
       "count          319.000000   319.000000            319.000000  \n",
       "mean             0.252489     0.174478              0.545455  \n",
       "std              0.335939     0.164604              0.498712  \n",
       "min              0.000000     0.000000              0.000000  \n",
       "25%              0.020304     0.055349              0.000000  \n",
       "50%              0.060849     0.116279              1.000000  \n",
       "75%              0.412182     0.249302              1.000000  \n",
       "max              1.000000     1.000000              1.000000  "
      ]
     },
     "execution_count": 22,
     "metadata": {},
     "output_type": "execute_result"
    }
   ],
   "source": [
    "dependent = [\"Listing_Gains_Profit\"]\n",
    "independent = [\"Issue_Size\", \"Issue_Price\", \"Subscription_QIB\", \"Subscription_HNI\", \"Subscription_RII\", \"Subscription_Total\"]\n",
    "df[independent] = df[independent]/df[independent].max()\n",
    "df.describe()"
   ]
  },
  {
   "cell_type": "code",
   "execution_count": 23,
   "metadata": {},
   "outputs": [
    {
     "name": "stdout",
     "output_type": "stream",
     "text": [
      "(223, 6)\n",
      "(96, 6)\n"
     ]
    }
   ],
   "source": [
    "X = df[independent].values\n",
    "y = df[dependent].values\n",
    "\n",
    "X_train, X_test, y_train, y_test = train_test_split(X, y, test_size=0.30, random_state=364)\n",
    "print(X_train.shape); print(X_test.shape)"
   ]
  },
  {
   "cell_type": "code",
   "execution_count": 24,
   "metadata": {},
   "outputs": [],
   "source": [
    "tf.random.set_seed(364)\n",
    "model = tf.keras.Sequential()\n",
    "model.add(tf.keras.layers.Dense(32, input_shape = (X_train.shape[1],), activation = 'relu'))\n",
    "model.add(tf.keras.layers.Dense(16, activation= 'relu'))\n",
    "model.add(tf.keras.layers.Dense(8, activation= 'relu'))\n",
    "model.add(tf.keras.layers.Dense(4, activation= 'relu'))\n",
    "model.add(tf.keras.layers.Dense(1, activation='sigmoid'))    "
   ]
  },
  {
   "cell_type": "code",
   "execution_count": 25,
   "metadata": {},
   "outputs": [],
   "source": [
    "model.compile(optimizer=tf.keras.optimizers.Adam(0.001), loss=tf.keras.losses.BinaryCrossentropy(), metrics=['accuracy'])"
   ]
  },
  {
   "cell_type": "code",
   "execution_count": 26,
   "metadata": {},
   "outputs": [
    {
     "name": "stdout",
     "output_type": "stream",
     "text": [
      "Model: \"sequential\"\n",
      "_________________________________________________________________\n",
      " Layer (type)                Output Shape              Param #   \n",
      "=================================================================\n",
      " dense (Dense)               (None, 32)                224       \n",
      "                                                                 \n",
      " dense_1 (Dense)             (None, 16)                528       \n",
      "                                                                 \n",
      " dense_2 (Dense)             (None, 8)                 136       \n",
      "                                                                 \n",
      " dense_3 (Dense)             (None, 4)                 36        \n",
      "                                                                 \n",
      " dense_4 (Dense)             (None, 1)                 5         \n",
      "                                                                 \n",
      "=================================================================\n",
      "Total params: 929\n",
      "Trainable params: 929\n",
      "Non-trainable params: 0\n",
      "_________________________________________________________________\n",
      "None\n"
     ]
    }
   ],
   "source": [
    "print(model.summary())"
   ]
  },
  {
   "cell_type": "code",
   "execution_count": 27,
   "metadata": {},
   "outputs": [
    {
     "name": "stdout",
     "output_type": "stream",
     "text": [
      "Epoch 1/250\n",
      "7/7 [==============================] - 1s 1ms/step - loss: 0.6958 - accuracy: 0.4619\n",
      "Epoch 2/250\n",
      "7/7 [==============================] - 0s 1ms/step - loss: 0.6887 - accuracy: 0.5426\n",
      "Epoch 3/250\n",
      "7/7 [==============================] - 0s 1ms/step - loss: 0.6819 - accuracy: 0.5516\n",
      "Epoch 4/250\n",
      "7/7 [==============================] - 0s 1ms/step - loss: 0.6767 - accuracy: 0.5605\n",
      "Epoch 5/250\n",
      "7/7 [==============================] - 0s 1ms/step - loss: 0.6693 - accuracy: 0.5605\n",
      "Epoch 6/250\n",
      "7/7 [==============================] - 0s 1ms/step - loss: 0.6606 - accuracy: 0.5605\n",
      "Epoch 7/250\n",
      "7/7 [==============================] - 0s 1ms/step - loss: 0.6535 - accuracy: 0.5605\n",
      "Epoch 8/250\n",
      "7/7 [==============================] - 0s 1ms/step - loss: 0.6465 - accuracy: 0.5605\n",
      "Epoch 9/250\n",
      "7/7 [==============================] - 0s 1ms/step - loss: 0.6415 - accuracy: 0.5605\n",
      "Epoch 10/250\n",
      "7/7 [==============================] - 0s 1ms/step - loss: 0.6377 - accuracy: 0.5605\n",
      "Epoch 11/250\n",
      "7/7 [==============================] - 0s 1ms/step - loss: 0.6358 - accuracy: 0.5605\n",
      "Epoch 12/250\n",
      "7/7 [==============================] - 0s 1ms/step - loss: 0.6334 - accuracy: 0.5605\n",
      "Epoch 13/250\n",
      "7/7 [==============================] - 0s 1ms/step - loss: 0.6320 - accuracy: 0.5561\n",
      "Epoch 14/250\n",
      "7/7 [==============================] - 0s 1ms/step - loss: 0.6305 - accuracy: 0.5605\n",
      "Epoch 15/250\n",
      "7/7 [==============================] - 0s 1ms/step - loss: 0.6289 - accuracy: 0.5785\n",
      "Epoch 16/250\n",
      "7/7 [==============================] - 0s 13ms/step - loss: 0.6282 - accuracy: 0.5740\n",
      "Epoch 17/250\n",
      "7/7 [==============================] - 0s 1ms/step - loss: 0.6286 - accuracy: 0.6368\n",
      "Epoch 18/250\n",
      "7/7 [==============================] - 0s 1ms/step - loss: 0.6271 - accuracy: 0.6682\n",
      "Epoch 19/250\n",
      "7/7 [==============================] - 0s 13ms/step - loss: 0.6260 - accuracy: 0.6906\n",
      "Epoch 20/250\n",
      "7/7 [==============================] - 0s 1ms/step - loss: 0.6253 - accuracy: 0.6861\n",
      "Epoch 21/250\n",
      "7/7 [==============================] - 0s 1ms/step - loss: 0.6247 - accuracy: 0.6996\n",
      "Epoch 22/250\n",
      "7/7 [==============================] - 0s 1ms/step - loss: 0.6237 - accuracy: 0.6906\n",
      "Epoch 23/250\n",
      "7/7 [==============================] - 0s 12ms/step - loss: 0.6245 - accuracy: 0.6996\n",
      "Epoch 24/250\n",
      "7/7 [==============================] - 0s 1ms/step - loss: 0.6229 - accuracy: 0.6861\n",
      "Epoch 25/250\n",
      "7/7 [==============================] - 0s 1ms/step - loss: 0.6218 - accuracy: 0.7085\n",
      "Epoch 26/250\n",
      "7/7 [==============================] - 0s 1ms/step - loss: 0.6214 - accuracy: 0.6996\n",
      "Epoch 27/250\n",
      "7/7 [==============================] - 0s 12ms/step - loss: 0.6208 - accuracy: 0.6996\n",
      "Epoch 28/250\n",
      "7/7 [==============================] - 0s 1ms/step - loss: 0.6201 - accuracy: 0.6951\n",
      "Epoch 29/250\n",
      "7/7 [==============================] - 0s 1ms/step - loss: 0.6203 - accuracy: 0.6906\n",
      "Epoch 30/250\n",
      "7/7 [==============================] - 0s 12ms/step - loss: 0.6190 - accuracy: 0.7040\n",
      "Epoch 31/250\n",
      "7/7 [==============================] - 0s 1ms/step - loss: 0.6188 - accuracy: 0.6816\n",
      "Epoch 32/250\n",
      "7/7 [==============================] - 0s 1ms/step - loss: 0.6173 - accuracy: 0.6861\n",
      "Epoch 33/250\n",
      "7/7 [==============================] - 0s 1ms/step - loss: 0.6161 - accuracy: 0.6996\n",
      "Epoch 34/250\n",
      "7/7 [==============================] - 0s 12ms/step - loss: 0.6156 - accuracy: 0.6951\n",
      "Epoch 35/250\n",
      "7/7 [==============================] - 0s 1ms/step - loss: 0.6147 - accuracy: 0.6996\n",
      "Epoch 36/250\n",
      "7/7 [==============================] - 0s 1ms/step - loss: 0.6138 - accuracy: 0.6996\n",
      "Epoch 37/250\n",
      "7/7 [==============================] - 0s 1ms/step - loss: 0.6130 - accuracy: 0.6861\n",
      "Epoch 38/250\n",
      "7/7 [==============================] - 0s 12ms/step - loss: 0.6123 - accuracy: 0.6861\n",
      "Epoch 39/250\n",
      "7/7 [==============================] - 0s 1ms/step - loss: 0.6126 - accuracy: 0.6906\n",
      "Epoch 40/250\n",
      "7/7 [==============================] - 0s 1ms/step - loss: 0.6107 - accuracy: 0.6906\n",
      "Epoch 41/250\n",
      "7/7 [==============================] - 0s 1ms/step - loss: 0.6110 - accuracy: 0.6951\n",
      "Epoch 42/250\n",
      "7/7 [==============================] - 0s 1ms/step - loss: 0.6093 - accuracy: 0.7040\n",
      "Epoch 43/250\n",
      "7/7 [==============================] - 0s 1ms/step - loss: 0.6100 - accuracy: 0.6816\n",
      "Epoch 44/250\n",
      "7/7 [==============================] - 0s 1ms/step - loss: 0.6078 - accuracy: 0.6861\n",
      "Epoch 45/250\n",
      "7/7 [==============================] - 0s 12ms/step - loss: 0.6076 - accuracy: 0.6951\n",
      "Epoch 46/250\n",
      "7/7 [==============================] - 0s 1ms/step - loss: 0.6060 - accuracy: 0.6951\n",
      "Epoch 47/250\n",
      "7/7 [==============================] - 0s 1ms/step - loss: 0.6065 - accuracy: 0.6861\n",
      "Epoch 48/250\n",
      "7/7 [==============================] - 0s 1ms/step - loss: 0.6043 - accuracy: 0.6906\n",
      "Epoch 49/250\n",
      "7/7 [==============================] - 0s 12ms/step - loss: 0.6033 - accuracy: 0.6951\n",
      "Epoch 50/250\n",
      "7/7 [==============================] - 0s 1ms/step - loss: 0.6023 - accuracy: 0.6951\n",
      "Epoch 51/250\n",
      "7/7 [==============================] - 0s 1ms/step - loss: 0.6022 - accuracy: 0.6996\n",
      "Epoch 52/250\n",
      "7/7 [==============================] - 0s 1ms/step - loss: 0.6015 - accuracy: 0.6996\n",
      "Epoch 53/250\n",
      "7/7 [==============================] - 0s 1ms/step - loss: 0.6008 - accuracy: 0.7040\n",
      "Epoch 54/250\n",
      "7/7 [==============================] - 0s 1ms/step - loss: 0.5996 - accuracy: 0.6906\n",
      "Epoch 55/250\n",
      "7/7 [==============================] - 0s 1ms/step - loss: 0.5987 - accuracy: 0.6996\n",
      "Epoch 56/250\n",
      "7/7 [==============================] - 0s 12ms/step - loss: 0.5982 - accuracy: 0.6951\n",
      "Epoch 57/250\n",
      "7/7 [==============================] - 0s 1ms/step - loss: 0.5985 - accuracy: 0.6996\n",
      "Epoch 58/250\n",
      "7/7 [==============================] - 0s 1ms/step - loss: 0.5971 - accuracy: 0.7040\n",
      "Epoch 59/250\n",
      "7/7 [==============================] - 0s 1ms/step - loss: 0.5958 - accuracy: 0.6951\n",
      "Epoch 60/250\n",
      "7/7 [==============================] - 0s 1ms/step - loss: 0.5954 - accuracy: 0.6951\n",
      "Epoch 61/250\n",
      "7/7 [==============================] - 0s 1ms/step - loss: 0.5947 - accuracy: 0.6951\n",
      "Epoch 62/250\n",
      "7/7 [==============================] - 0s 1ms/step - loss: 0.5940 - accuracy: 0.7085\n",
      "Epoch 63/250\n",
      "7/7 [==============================] - 0s 1ms/step - loss: 0.5941 - accuracy: 0.6996\n",
      "Epoch 64/250\n",
      "7/7 [==============================] - 0s 11ms/step - loss: 0.5936 - accuracy: 0.6951\n",
      "Epoch 65/250\n",
      "7/7 [==============================] - 0s 1ms/step - loss: 0.5928 - accuracy: 0.6951\n",
      "Epoch 66/250\n",
      "7/7 [==============================] - 0s 1ms/step - loss: 0.5922 - accuracy: 0.6951\n",
      "Epoch 67/250\n",
      "7/7 [==============================] - 0s 12ms/step - loss: 0.5917 - accuracy: 0.7040\n",
      "Epoch 68/250\n",
      "7/7 [==============================] - 0s 1ms/step - loss: 0.5915 - accuracy: 0.7040\n",
      "Epoch 69/250\n",
      "7/7 [==============================] - 0s 1ms/step - loss: 0.5915 - accuracy: 0.6996\n",
      "Epoch 70/250\n",
      "7/7 [==============================] - 0s 1ms/step - loss: 0.5928 - accuracy: 0.6996\n",
      "Epoch 71/250\n",
      "7/7 [==============================] - 0s 1ms/step - loss: 0.5919 - accuracy: 0.7085\n",
      "Epoch 72/250\n",
      "7/7 [==============================] - 0s 1ms/step - loss: 0.5902 - accuracy: 0.7130\n",
      "Epoch 73/250\n",
      "7/7 [==============================] - 0s 1ms/step - loss: 0.5889 - accuracy: 0.7085\n",
      "Epoch 74/250\n",
      "7/7 [==============================] - 0s 12ms/step - loss: 0.5890 - accuracy: 0.7130\n",
      "Epoch 75/250\n",
      "7/7 [==============================] - 0s 1ms/step - loss: 0.5893 - accuracy: 0.6996\n",
      "Epoch 76/250\n",
      "7/7 [==============================] - 0s 1ms/step - loss: 0.5876 - accuracy: 0.7085\n",
      "Epoch 77/250\n",
      "7/7 [==============================] - 0s 1ms/step - loss: 0.5880 - accuracy: 0.7175\n",
      "Epoch 78/250\n",
      "7/7 [==============================] - 0s 12ms/step - loss: 0.5879 - accuracy: 0.7085\n",
      "Epoch 79/250\n",
      "7/7 [==============================] - 0s 1ms/step - loss: 0.5871 - accuracy: 0.7175\n",
      "Epoch 80/250\n",
      "7/7 [==============================] - 0s 1ms/step - loss: 0.5863 - accuracy: 0.7175\n",
      "Epoch 81/250\n",
      "7/7 [==============================] - 0s 12ms/step - loss: 0.5858 - accuracy: 0.7175\n",
      "Epoch 82/250\n",
      "7/7 [==============================] - 0s 1ms/step - loss: 0.5847 - accuracy: 0.7085\n",
      "Epoch 83/250\n",
      "7/7 [==============================] - 0s 1ms/step - loss: 0.5850 - accuracy: 0.7175\n",
      "Epoch 84/250\n",
      "7/7 [==============================] - 0s 1ms/step - loss: 0.5847 - accuracy: 0.7175\n",
      "Epoch 85/250\n",
      "7/7 [==============================] - 0s 1ms/step - loss: 0.5855 - accuracy: 0.7130\n",
      "Epoch 86/250\n",
      "7/7 [==============================] - 0s 1ms/step - loss: 0.5840 - accuracy: 0.7130\n",
      "Epoch 87/250\n",
      "7/7 [==============================] - 0s 1ms/step - loss: 0.5827 - accuracy: 0.7175\n",
      "Epoch 88/250\n",
      "7/7 [==============================] - 0s 12ms/step - loss: 0.5823 - accuracy: 0.7175\n",
      "Epoch 89/250\n",
      "7/7 [==============================] - 0s 1ms/step - loss: 0.5822 - accuracy: 0.7220\n",
      "Epoch 90/250\n",
      "7/7 [==============================] - 0s 1ms/step - loss: 0.5817 - accuracy: 0.7220\n",
      "Epoch 91/250\n",
      "7/7 [==============================] - 0s 1ms/step - loss: 0.5814 - accuracy: 0.7175\n",
      "Epoch 92/250\n",
      "7/7 [==============================] - 0s 12ms/step - loss: 0.5811 - accuracy: 0.7175\n",
      "Epoch 93/250\n",
      "7/7 [==============================] - 0s 1ms/step - loss: 0.5812 - accuracy: 0.7175\n",
      "Epoch 94/250\n",
      "7/7 [==============================] - 0s 1ms/step - loss: 0.5798 - accuracy: 0.7175\n",
      "Epoch 95/250\n",
      "7/7 [==============================] - 0s 12ms/step - loss: 0.5796 - accuracy: 0.7175\n",
      "Epoch 96/250\n",
      "7/7 [==============================] - 0s 1ms/step - loss: 0.5794 - accuracy: 0.7220\n",
      "Epoch 97/250\n",
      "7/7 [==============================] - 0s 1ms/step - loss: 0.5799 - accuracy: 0.7085\n",
      "Epoch 98/250\n",
      "7/7 [==============================] - 0s 1ms/step - loss: 0.5787 - accuracy: 0.7175\n",
      "Epoch 99/250\n",
      "7/7 [==============================] - 0s 12ms/step - loss: 0.5785 - accuracy: 0.7175\n",
      "Epoch 100/250\n",
      "7/7 [==============================] - 0s 1ms/step - loss: 0.5778 - accuracy: 0.7220\n",
      "Epoch 101/250\n",
      "7/7 [==============================] - 0s 1ms/step - loss: 0.5780 - accuracy: 0.7175\n",
      "Epoch 102/250\n",
      "7/7 [==============================] - 0s 1ms/step - loss: 0.5765 - accuracy: 0.7175\n",
      "Epoch 103/250\n",
      "7/7 [==============================] - 0s 1ms/step - loss: 0.5779 - accuracy: 0.7175\n",
      "Epoch 104/250\n",
      "7/7 [==============================] - 0s 1ms/step - loss: 0.5759 - accuracy: 0.7175\n",
      "Epoch 105/250\n",
      "7/7 [==============================] - 0s 1ms/step - loss: 0.5762 - accuracy: 0.7175\n",
      "Epoch 106/250\n",
      "7/7 [==============================] - 0s 12ms/step - loss: 0.5747 - accuracy: 0.7220\n",
      "Epoch 107/250\n",
      "7/7 [==============================] - 0s 1ms/step - loss: 0.5764 - accuracy: 0.7130\n",
      "Epoch 108/250\n",
      "7/7 [==============================] - 0s 1ms/step - loss: 0.5747 - accuracy: 0.7220\n",
      "Epoch 109/250\n",
      "7/7 [==============================] - 0s 1ms/step - loss: 0.5746 - accuracy: 0.7220\n",
      "Epoch 110/250\n",
      "7/7 [==============================] - 0s 12ms/step - loss: 0.5732 - accuracy: 0.7175\n",
      "Epoch 111/250\n",
      "7/7 [==============================] - 0s 1ms/step - loss: 0.5732 - accuracy: 0.7175\n",
      "Epoch 112/250\n",
      "7/7 [==============================] - 0s 1ms/step - loss: 0.5725 - accuracy: 0.7220\n",
      "Epoch 113/250\n",
      "7/7 [==============================] - 0s 1ms/step - loss: 0.5720 - accuracy: 0.7220\n",
      "Epoch 114/250\n",
      "7/7 [==============================] - 0s 1ms/step - loss: 0.5719 - accuracy: 0.7175\n",
      "Epoch 115/250\n",
      "7/7 [==============================] - 0s 1ms/step - loss: 0.5714 - accuracy: 0.7175\n",
      "Epoch 116/250\n",
      "7/7 [==============================] - 0s 1ms/step - loss: 0.5703 - accuracy: 0.7220\n",
      "Epoch 117/250\n",
      "7/7 [==============================] - 0s 12ms/step - loss: 0.5702 - accuracy: 0.7220\n",
      "Epoch 118/250\n",
      "7/7 [==============================] - 0s 1ms/step - loss: 0.5693 - accuracy: 0.7220\n",
      "Epoch 119/250\n",
      "7/7 [==============================] - 0s 1ms/step - loss: 0.5690 - accuracy: 0.7309\n",
      "Epoch 120/250\n",
      "7/7 [==============================] - 0s 1ms/step - loss: 0.5682 - accuracy: 0.7265\n",
      "Epoch 121/250\n",
      "7/7 [==============================] - 0s 12ms/step - loss: 0.5685 - accuracy: 0.7220\n",
      "Epoch 122/250\n",
      "7/7 [==============================] - 0s 1ms/step - loss: 0.5685 - accuracy: 0.7220\n",
      "Epoch 123/250\n",
      "7/7 [==============================] - 0s 1ms/step - loss: 0.5674 - accuracy: 0.7175\n",
      "Epoch 124/250\n",
      "7/7 [==============================] - 0s 12ms/step - loss: 0.5650 - accuracy: 0.7265\n",
      "Epoch 125/250\n",
      "7/7 [==============================] - 0s 1ms/step - loss: 0.5662 - accuracy: 0.7265\n",
      "Epoch 126/250\n",
      "7/7 [==============================] - 0s 1ms/step - loss: 0.5649 - accuracy: 0.7220\n",
      "Epoch 127/250\n",
      "7/7 [==============================] - 0s 1ms/step - loss: 0.5645 - accuracy: 0.7220\n",
      "Epoch 128/250\n",
      "7/7 [==============================] - 0s 12ms/step - loss: 0.5627 - accuracy: 0.7220\n",
      "Epoch 129/250\n",
      "7/7 [==============================] - 0s 1ms/step - loss: 0.5621 - accuracy: 0.7220\n",
      "Epoch 130/250\n",
      "7/7 [==============================] - 0s 1ms/step - loss: 0.5616 - accuracy: 0.7220\n",
      "Epoch 131/250\n",
      "7/7 [==============================] - 0s 12ms/step - loss: 0.5603 - accuracy: 0.7265\n",
      "Epoch 132/250\n",
      "7/7 [==============================] - 0s 1ms/step - loss: 0.5590 - accuracy: 0.7309\n",
      "Epoch 133/250\n",
      "7/7 [==============================] - 0s 1ms/step - loss: 0.5584 - accuracy: 0.7354\n",
      "Epoch 134/250\n",
      "7/7 [==============================] - 0s 1ms/step - loss: 0.5583 - accuracy: 0.7354\n",
      "Epoch 135/250\n",
      "7/7 [==============================] - 0s 1ms/step - loss: 0.5585 - accuracy: 0.7309\n",
      "Epoch 136/250\n",
      "7/7 [==============================] - 0s 1ms/step - loss: 0.5564 - accuracy: 0.7354\n",
      "Epoch 137/250\n",
      "7/7 [==============================] - 0s 1ms/step - loss: 0.5552 - accuracy: 0.7354\n",
      "Epoch 138/250\n",
      "7/7 [==============================] - 0s 12ms/step - loss: 0.5542 - accuracy: 0.7354\n",
      "Epoch 139/250\n",
      "7/7 [==============================] - 0s 1ms/step - loss: 0.5547 - accuracy: 0.7399\n",
      "Epoch 140/250\n",
      "7/7 [==============================] - 0s 1ms/step - loss: 0.5534 - accuracy: 0.7444\n",
      "Epoch 141/250\n",
      "7/7 [==============================] - 0s 1ms/step - loss: 0.5526 - accuracy: 0.7265\n",
      "Epoch 142/250\n",
      "7/7 [==============================] - 0s 12ms/step - loss: 0.5511 - accuracy: 0.7354\n",
      "Epoch 143/250\n",
      "7/7 [==============================] - 0s 1ms/step - loss: 0.5503 - accuracy: 0.7399\n",
      "Epoch 144/250\n",
      "7/7 [==============================] - 0s 1ms/step - loss: 0.5489 - accuracy: 0.7444\n",
      "Epoch 145/250\n",
      "7/7 [==============================] - 0s 12ms/step - loss: 0.5482 - accuracy: 0.7444\n",
      "Epoch 146/250\n",
      "7/7 [==============================] - 0s 1ms/step - loss: 0.5500 - accuracy: 0.7265\n",
      "Epoch 147/250\n",
      "7/7 [==============================] - 0s 1ms/step - loss: 0.5521 - accuracy: 0.7399\n",
      "Epoch 148/250\n",
      "7/7 [==============================] - 0s 1ms/step - loss: 0.5476 - accuracy: 0.7265\n",
      "Epoch 149/250\n",
      "7/7 [==============================] - 0s 12ms/step - loss: 0.5480 - accuracy: 0.7265\n",
      "Epoch 150/250\n",
      "7/7 [==============================] - 0s 1ms/step - loss: 0.5438 - accuracy: 0.7354\n",
      "Epoch 151/250\n",
      "7/7 [==============================] - 0s 1ms/step - loss: 0.5435 - accuracy: 0.7354\n",
      "Epoch 152/250\n",
      "7/7 [==============================] - 0s 1ms/step - loss: 0.5420 - accuracy: 0.7444\n",
      "Epoch 153/250\n",
      "7/7 [==============================] - 0s 12ms/step - loss: 0.5411 - accuracy: 0.7354\n",
      "Epoch 154/250\n",
      "7/7 [==============================] - 0s 1ms/step - loss: 0.5396 - accuracy: 0.7399\n",
      "Epoch 155/250\n",
      "7/7 [==============================] - 0s 1ms/step - loss: 0.5426 - accuracy: 0.7399\n",
      "Epoch 156/250\n",
      "7/7 [==============================] - 0s 12ms/step - loss: 0.5368 - accuracy: 0.7534\n",
      "Epoch 157/250\n",
      "7/7 [==============================] - 0s 1ms/step - loss: 0.5396 - accuracy: 0.7354\n",
      "Epoch 158/250\n",
      "7/7 [==============================] - 0s 1ms/step - loss: 0.5381 - accuracy: 0.7489\n",
      "Epoch 159/250\n",
      "7/7 [==============================] - 0s 1ms/step - loss: 0.5362 - accuracy: 0.7444\n",
      "Epoch 160/250\n",
      "7/7 [==============================] - 0s 12ms/step - loss: 0.5342 - accuracy: 0.7354\n",
      "Epoch 161/250\n",
      "7/7 [==============================] - 0s 1ms/step - loss: 0.5333 - accuracy: 0.7399\n",
      "Epoch 162/250\n",
      "7/7 [==============================] - 0s 1ms/step - loss: 0.5324 - accuracy: 0.7399\n",
      "Epoch 163/250\n",
      "7/7 [==============================] - 0s 1ms/step - loss: 0.5322 - accuracy: 0.7489\n",
      "Epoch 164/250\n",
      "7/7 [==============================] - 0s 12ms/step - loss: 0.5313 - accuracy: 0.7444\n",
      "Epoch 165/250\n",
      "7/7 [==============================] - 0s 1ms/step - loss: 0.5294 - accuracy: 0.7444\n",
      "Epoch 166/250\n",
      "7/7 [==============================] - 0s 1ms/step - loss: 0.5303 - accuracy: 0.7354\n",
      "Epoch 167/250\n",
      "7/7 [==============================] - 0s 1ms/step - loss: 0.5263 - accuracy: 0.7489\n",
      "Epoch 168/250\n",
      "7/7 [==============================] - 0s 12ms/step - loss: 0.5253 - accuracy: 0.7444\n",
      "Epoch 169/250\n",
      "7/7 [==============================] - 0s 1ms/step - loss: 0.5258 - accuracy: 0.7399\n",
      "Epoch 170/250\n",
      "7/7 [==============================] - 0s 1ms/step - loss: 0.5238 - accuracy: 0.7489\n",
      "Epoch 171/250\n",
      "7/7 [==============================] - 0s 1ms/step - loss: 0.5249 - accuracy: 0.7444\n",
      "Epoch 172/250\n",
      "7/7 [==============================] - 0s 12ms/step - loss: 0.5253 - accuracy: 0.7578\n",
      "Epoch 173/250\n",
      "7/7 [==============================] - 0s 1ms/step - loss: 0.5206 - accuracy: 0.7578\n",
      "Epoch 174/250\n",
      "7/7 [==============================] - 0s 1ms/step - loss: 0.5230 - accuracy: 0.7534\n",
      "Epoch 175/250\n",
      "7/7 [==============================] - 0s 12ms/step - loss: 0.5201 - accuracy: 0.7489\n",
      "Epoch 176/250\n",
      "7/7 [==============================] - 0s 1ms/step - loss: 0.5274 - accuracy: 0.7623\n",
      "Epoch 177/250\n",
      "7/7 [==============================] - 0s 1ms/step - loss: 0.5175 - accuracy: 0.7534\n",
      "Epoch 178/250\n",
      "7/7 [==============================] - 0s 1ms/step - loss: 0.5192 - accuracy: 0.7534\n",
      "Epoch 179/250\n",
      "7/7 [==============================] - 0s 12ms/step - loss: 0.5169 - accuracy: 0.7578\n",
      "Epoch 180/250\n",
      "7/7 [==============================] - 0s 1ms/step - loss: 0.5167 - accuracy: 0.7534\n",
      "Epoch 181/250\n",
      "7/7 [==============================] - 0s 1ms/step - loss: 0.5153 - accuracy: 0.7534\n",
      "Epoch 182/250\n",
      "7/7 [==============================] - 0s 1ms/step - loss: 0.5139 - accuracy: 0.7578\n",
      "Epoch 183/250\n",
      "7/7 [==============================] - 0s 12ms/step - loss: 0.5135 - accuracy: 0.7668\n",
      "Epoch 184/250\n",
      "7/7 [==============================] - 0s 1ms/step - loss: 0.5123 - accuracy: 0.7578\n",
      "Epoch 185/250\n",
      "7/7 [==============================] - 0s 1ms/step - loss: 0.5225 - accuracy: 0.7578\n",
      "Epoch 186/250\n",
      "7/7 [==============================] - 0s 1ms/step - loss: 0.5155 - accuracy: 0.7623\n",
      "Epoch 187/250\n",
      "7/7 [==============================] - 0s 12ms/step - loss: 0.5113 - accuracy: 0.7534\n",
      "Epoch 188/250\n",
      "7/7 [==============================] - 0s 1ms/step - loss: 0.5150 - accuracy: 0.7444\n",
      "Epoch 189/250\n",
      "7/7 [==============================] - 0s 1ms/step - loss: 0.5090 - accuracy: 0.7578\n",
      "Epoch 190/250\n",
      "7/7 [==============================] - 0s 12ms/step - loss: 0.5099 - accuracy: 0.7578\n",
      "Epoch 191/250\n",
      "7/7 [==============================] - 0s 1ms/step - loss: 0.5062 - accuracy: 0.7713\n",
      "Epoch 192/250\n",
      "7/7 [==============================] - 0s 1ms/step - loss: 0.5070 - accuracy: 0.7578\n",
      "Epoch 193/250\n",
      "7/7 [==============================] - 0s 1ms/step - loss: 0.5069 - accuracy: 0.7578\n",
      "Epoch 194/250\n",
      "7/7 [==============================] - 0s 12ms/step - loss: 0.5032 - accuracy: 0.7623\n",
      "Epoch 195/250\n",
      "7/7 [==============================] - 0s 1ms/step - loss: 0.5031 - accuracy: 0.7623\n",
      "Epoch 196/250\n",
      "7/7 [==============================] - 0s 1ms/step - loss: 0.5033 - accuracy: 0.7623\n",
      "Epoch 197/250\n",
      "7/7 [==============================] - 0s 1ms/step - loss: 0.5006 - accuracy: 0.7668\n",
      "Epoch 198/250\n",
      "7/7 [==============================] - 0s 1ms/step - loss: 0.5010 - accuracy: 0.7668\n",
      "Epoch 199/250\n",
      "7/7 [==============================] - 0s 1ms/step - loss: 0.5002 - accuracy: 0.7668\n",
      "Epoch 200/250\n",
      "7/7 [==============================] - 0s 1ms/step - loss: 0.4992 - accuracy: 0.7623\n",
      "Epoch 201/250\n",
      "7/7 [==============================] - 0s 12ms/step - loss: 0.4967 - accuracy: 0.7623\n",
      "Epoch 202/250\n",
      "7/7 [==============================] - 0s 1ms/step - loss: 0.4980 - accuracy: 0.7668\n",
      "Epoch 203/250\n",
      "7/7 [==============================] - 0s 1ms/step - loss: 0.4959 - accuracy: 0.7713\n",
      "Epoch 204/250\n",
      "7/7 [==============================] - 0s 1ms/step - loss: 0.4957 - accuracy: 0.7623\n",
      "Epoch 205/250\n",
      "7/7 [==============================] - 0s 1ms/step - loss: 0.5071 - accuracy: 0.7623\n",
      "Epoch 206/250\n",
      "7/7 [==============================] - 0s 1ms/step - loss: 0.4917 - accuracy: 0.7713\n",
      "Epoch 207/250\n",
      "7/7 [==============================] - 0s 1ms/step - loss: 0.4939 - accuracy: 0.7623\n",
      "Epoch 208/250\n",
      "7/7 [==============================] - 0s 1ms/step - loss: 0.4934 - accuracy: 0.7623\n",
      "Epoch 209/250\n",
      "7/7 [==============================] - 0s 1ms/step - loss: 0.4950 - accuracy: 0.7803\n",
      "Epoch 210/250\n",
      "7/7 [==============================] - 0s 1ms/step - loss: 0.4901 - accuracy: 0.7623\n",
      "Epoch 211/250\n",
      "7/7 [==============================] - 0s 1ms/step - loss: 0.4929 - accuracy: 0.7623\n",
      "Epoch 212/250\n",
      "7/7 [==============================] - 0s 12ms/step - loss: 0.4905 - accuracy: 0.7668\n",
      "Epoch 213/250\n",
      "7/7 [==============================] - 0s 1ms/step - loss: 0.4874 - accuracy: 0.7713\n",
      "Epoch 214/250\n",
      "7/7 [==============================] - 0s 1ms/step - loss: 0.4900 - accuracy: 0.7578\n",
      "Epoch 215/250\n",
      "7/7 [==============================] - 0s 1ms/step - loss: 0.4888 - accuracy: 0.7668\n",
      "Epoch 216/250\n",
      "7/7 [==============================] - 0s 12ms/step - loss: 0.4856 - accuracy: 0.7848\n",
      "Epoch 217/250\n",
      "7/7 [==============================] - 0s 1ms/step - loss: 0.4911 - accuracy: 0.7578\n",
      "Epoch 218/250\n",
      "7/7 [==============================] - 0s 1ms/step - loss: 0.4836 - accuracy: 0.7803\n",
      "Epoch 219/250\n",
      "7/7 [==============================] - 0s 12ms/step - loss: 0.4860 - accuracy: 0.7758\n",
      "Epoch 220/250\n",
      "7/7 [==============================] - 0s 1ms/step - loss: 0.4838 - accuracy: 0.7713\n",
      "Epoch 221/250\n",
      "7/7 [==============================] - 0s 1ms/step - loss: 0.4833 - accuracy: 0.7713\n",
      "Epoch 222/250\n",
      "7/7 [==============================] - 0s 1ms/step - loss: 0.4822 - accuracy: 0.7758\n",
      "Epoch 223/250\n",
      "7/7 [==============================] - 0s 12ms/step - loss: 0.4795 - accuracy: 0.7758\n",
      "Epoch 224/250\n",
      "7/7 [==============================] - 0s 1ms/step - loss: 0.4814 - accuracy: 0.7668\n",
      "Epoch 225/250\n",
      "7/7 [==============================] - 0s 1ms/step - loss: 0.4775 - accuracy: 0.7758\n",
      "Epoch 226/250\n",
      "7/7 [==============================] - 0s 1ms/step - loss: 0.4772 - accuracy: 0.7758\n",
      "Epoch 227/250\n",
      "7/7 [==============================] - 0s 12ms/step - loss: 0.4764 - accuracy: 0.7803\n",
      "Epoch 228/250\n",
      "7/7 [==============================] - 0s 1ms/step - loss: 0.4755 - accuracy: 0.7758\n",
      "Epoch 229/250\n",
      "7/7 [==============================] - 0s 1ms/step - loss: 0.4760 - accuracy: 0.7758\n",
      "Epoch 230/250\n",
      "7/7 [==============================] - 0s 1ms/step - loss: 0.4737 - accuracy: 0.7758\n",
      "Epoch 231/250\n",
      "7/7 [==============================] - 0s 1ms/step - loss: 0.4776 - accuracy: 0.7758\n",
      "Epoch 232/250\n",
      "7/7 [==============================] - 0s 1ms/step - loss: 0.4731 - accuracy: 0.7668\n",
      "Epoch 233/250\n",
      "7/7 [==============================] - 0s 1ms/step - loss: 0.4701 - accuracy: 0.7758\n",
      "Epoch 234/250\n",
      "7/7 [==============================] - 0s 1ms/step - loss: 0.4728 - accuracy: 0.7803\n",
      "Epoch 235/250\n",
      "7/7 [==============================] - 0s 1ms/step - loss: 0.4730 - accuracy: 0.7758\n",
      "Epoch 236/250\n",
      "7/7 [==============================] - 0s 1ms/step - loss: 0.4757 - accuracy: 0.7758\n",
      "Epoch 237/250\n",
      "7/7 [==============================] - 0s 1ms/step - loss: 0.4683 - accuracy: 0.7803\n",
      "Epoch 238/250\n",
      "7/7 [==============================] - 0s 1ms/step - loss: 0.4695 - accuracy: 0.7892\n",
      "Epoch 239/250\n",
      "7/7 [==============================] - 0s 1ms/step - loss: 0.4667 - accuracy: 0.7892\n",
      "Epoch 240/250\n",
      "7/7 [==============================] - 0s 992us/step - loss: 0.4669 - accuracy: 0.7758\n",
      "Epoch 241/250\n",
      "7/7 [==============================] - 0s 1ms/step - loss: 0.4676 - accuracy: 0.7803\n",
      "Epoch 242/250\n",
      "7/7 [==============================] - 0s 12ms/step - loss: 0.4699 - accuracy: 0.7758\n",
      "Epoch 243/250\n",
      "7/7 [==============================] - 0s 1ms/step - loss: 0.4771 - accuracy: 0.7623\n",
      "Epoch 244/250\n",
      "7/7 [==============================] - 0s 1ms/step - loss: 0.4701 - accuracy: 0.7937\n",
      "Epoch 245/250\n",
      "7/7 [==============================] - 0s 1ms/step - loss: 0.4625 - accuracy: 0.7713\n",
      "Epoch 246/250\n",
      "7/7 [==============================] - 0s 1ms/step - loss: 0.4620 - accuracy: 0.7982\n",
      "Epoch 247/250\n",
      "7/7 [==============================] - 0s 1ms/step - loss: 0.4596 - accuracy: 0.7803\n",
      "Epoch 248/250\n",
      "7/7 [==============================] - 0s 1ms/step - loss: 0.4628 - accuracy: 0.7758\n",
      "Epoch 249/250\n",
      "7/7 [==============================] - 0s 1ms/step - loss: 0.4583 - accuracy: 0.7982\n",
      "Epoch 250/250\n",
      "7/7 [==============================] - 0s 1ms/step - loss: 0.4585 - accuracy: 0.7937\n"
     ]
    },
    {
     "data": {
      "text/plain": [
       "<keras.callbacks.History at 0x7c8093cc8f70>"
      ]
     },
     "execution_count": 27,
     "metadata": {},
     "output_type": "execute_result"
    }
   ],
   "source": [
    "model.fit(X_train, y_train, epochs=250)"
   ]
  },
  {
   "cell_type": "code",
   "execution_count": 28,
   "metadata": {},
   "outputs": [
    {
     "name": "stdout",
     "output_type": "stream",
     "text": [
      "7/7 [==============================] - 0s 1ms/step - loss: 0.4538 - accuracy: 0.7758\n"
     ]
    },
    {
     "data": {
      "text/plain": [
       "[0.4537603259086609, 0.7757847309112549]"
      ]
     },
     "execution_count": 28,
     "metadata": {},
     "output_type": "execute_result"
    }
   ],
   "source": [
    "model.evaluate(X_train, y_train)"
   ]
  },
  {
   "cell_type": "code",
   "execution_count": 31,
   "metadata": {},
   "outputs": [
    {
     "name": "stdout",
     "output_type": "stream",
     "text": [
      "7/7 [==============================] - 0s 914us/step - loss: 0.4538 - accuracy: 0.7758\n"
     ]
    },
    {
     "data": {
      "text/plain": [
       "[0.4537603259086609, 0.7757847309112549]"
      ]
     },
     "execution_count": 31,
     "metadata": {},
     "output_type": "execute_result"
    }
   ],
   "source": [
    "model.evaluate(X_train, y_train)"
   ]
  },
  {
   "cell_type": "code",
   "execution_count": 32,
   "metadata": {},
   "outputs": [
    {
     "name": "stdout",
     "output_type": "stream",
     "text": [
      "3/3 [==============================] - 0s 1ms/step - loss: 0.7530 - accuracy: 0.6667\n"
     ]
    },
    {
     "data": {
      "text/plain": [
       "[0.7529543042182922, 0.6666666865348816]"
      ]
     },
     "execution_count": 32,
     "metadata": {},
     "output_type": "execute_result"
    }
   ],
   "source": [
    "model.evaluate(X_test, y_test)"
   ]
  },
  {
   "cell_type": "code",
   "execution_count": null,
   "metadata": {},
   "outputs": [],
   "source": []
  }
 ],
 "metadata": {
  "kernelspec": {
   "display_name": "Python 3 (ipykernel)",
   "language": "python",
   "name": "python3"
  },
  "language_info": {
   "codemirror_mode": {
    "name": "ipython",
    "version": 3
   },
   "file_extension": ".py",
   "mimetype": "text/x-python",
   "name": "python",
   "nbconvert_exporter": "python",
   "pygments_lexer": "ipython3",
   "version": "3.10.6"
  }
 },
 "nbformat": 4,
 "nbformat_minor": 4
}
