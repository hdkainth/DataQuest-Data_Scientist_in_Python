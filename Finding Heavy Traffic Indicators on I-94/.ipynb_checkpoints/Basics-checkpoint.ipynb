{
 "cells": [
  {
   "cell_type": "markdown",
   "metadata": {},
   "source": [
    "# Finding Heavy Traffic Indicators on I-94\n",
    "\n",
    "The goal of this project is to determine indicators of heavy traffic, such as weather type, time of day, time of week, etc. \n",
    "\n",
    "In order to do this, we are going to be analyzing a dataset about the westbound traffic on I-94\n",
    "\n",
    "This dataset is avaiable on the [UCI Machine Learning Repository](https://archive.ics.uci.edu/ml/datasets/Metro+Interstate+Traffic+Volume)"
   ]
  },
  {
   "cell_type": "code",
   "execution_count": 1,
   "metadata": {},
   "outputs": [
    {
     "data": {
      "text/html": [
       "<div>\n",
       "<style scoped>\n",
       "    .dataframe tbody tr th:only-of-type {\n",
       "        vertical-align: middle;\n",
       "    }\n",
       "\n",
       "    .dataframe tbody tr th {\n",
       "        vertical-align: top;\n",
       "    }\n",
       "\n",
       "    .dataframe thead th {\n",
       "        text-align: right;\n",
       "    }\n",
       "</style>\n",
       "<table border=\"1\" class=\"dataframe\">\n",
       "  <thead>\n",
       "    <tr style=\"text-align: right;\">\n",
       "      <th></th>\n",
       "      <th>holiday</th>\n",
       "      <th>temp</th>\n",
       "      <th>rain_1h</th>\n",
       "      <th>snow_1h</th>\n",
       "      <th>clouds_all</th>\n",
       "      <th>weather_main</th>\n",
       "      <th>weather_description</th>\n",
       "      <th>date_time</th>\n",
       "      <th>traffic_volume</th>\n",
       "    </tr>\n",
       "  </thead>\n",
       "  <tbody>\n",
       "    <tr>\n",
       "      <th>0</th>\n",
       "      <td>None</td>\n",
       "      <td>288.28</td>\n",
       "      <td>0.0</td>\n",
       "      <td>0.0</td>\n",
       "      <td>40</td>\n",
       "      <td>Clouds</td>\n",
       "      <td>scattered clouds</td>\n",
       "      <td>2012-10-02 09:00:00</td>\n",
       "      <td>5545</td>\n",
       "    </tr>\n",
       "    <tr>\n",
       "      <th>1</th>\n",
       "      <td>None</td>\n",
       "      <td>289.36</td>\n",
       "      <td>0.0</td>\n",
       "      <td>0.0</td>\n",
       "      <td>75</td>\n",
       "      <td>Clouds</td>\n",
       "      <td>broken clouds</td>\n",
       "      <td>2012-10-02 10:00:00</td>\n",
       "      <td>4516</td>\n",
       "    </tr>\n",
       "    <tr>\n",
       "      <th>2</th>\n",
       "      <td>None</td>\n",
       "      <td>289.58</td>\n",
       "      <td>0.0</td>\n",
       "      <td>0.0</td>\n",
       "      <td>90</td>\n",
       "      <td>Clouds</td>\n",
       "      <td>overcast clouds</td>\n",
       "      <td>2012-10-02 11:00:00</td>\n",
       "      <td>4767</td>\n",
       "    </tr>\n",
       "    <tr>\n",
       "      <th>3</th>\n",
       "      <td>None</td>\n",
       "      <td>290.13</td>\n",
       "      <td>0.0</td>\n",
       "      <td>0.0</td>\n",
       "      <td>90</td>\n",
       "      <td>Clouds</td>\n",
       "      <td>overcast clouds</td>\n",
       "      <td>2012-10-02 12:00:00</td>\n",
       "      <td>5026</td>\n",
       "    </tr>\n",
       "    <tr>\n",
       "      <th>4</th>\n",
       "      <td>None</td>\n",
       "      <td>291.14</td>\n",
       "      <td>0.0</td>\n",
       "      <td>0.0</td>\n",
       "      <td>75</td>\n",
       "      <td>Clouds</td>\n",
       "      <td>broken clouds</td>\n",
       "      <td>2012-10-02 13:00:00</td>\n",
       "      <td>4918</td>\n",
       "    </tr>\n",
       "    <tr>\n",
       "      <th>...</th>\n",
       "      <td>...</td>\n",
       "      <td>...</td>\n",
       "      <td>...</td>\n",
       "      <td>...</td>\n",
       "      <td>...</td>\n",
       "      <td>...</td>\n",
       "      <td>...</td>\n",
       "      <td>...</td>\n",
       "      <td>...</td>\n",
       "    </tr>\n",
       "    <tr>\n",
       "      <th>48199</th>\n",
       "      <td>None</td>\n",
       "      <td>283.45</td>\n",
       "      <td>0.0</td>\n",
       "      <td>0.0</td>\n",
       "      <td>75</td>\n",
       "      <td>Clouds</td>\n",
       "      <td>broken clouds</td>\n",
       "      <td>2018-09-30 19:00:00</td>\n",
       "      <td>3543</td>\n",
       "    </tr>\n",
       "    <tr>\n",
       "      <th>48200</th>\n",
       "      <td>None</td>\n",
       "      <td>282.76</td>\n",
       "      <td>0.0</td>\n",
       "      <td>0.0</td>\n",
       "      <td>90</td>\n",
       "      <td>Clouds</td>\n",
       "      <td>overcast clouds</td>\n",
       "      <td>2018-09-30 20:00:00</td>\n",
       "      <td>2781</td>\n",
       "    </tr>\n",
       "    <tr>\n",
       "      <th>48201</th>\n",
       "      <td>None</td>\n",
       "      <td>282.73</td>\n",
       "      <td>0.0</td>\n",
       "      <td>0.0</td>\n",
       "      <td>90</td>\n",
       "      <td>Thunderstorm</td>\n",
       "      <td>proximity thunderstorm</td>\n",
       "      <td>2018-09-30 21:00:00</td>\n",
       "      <td>2159</td>\n",
       "    </tr>\n",
       "    <tr>\n",
       "      <th>48202</th>\n",
       "      <td>None</td>\n",
       "      <td>282.09</td>\n",
       "      <td>0.0</td>\n",
       "      <td>0.0</td>\n",
       "      <td>90</td>\n",
       "      <td>Clouds</td>\n",
       "      <td>overcast clouds</td>\n",
       "      <td>2018-09-30 22:00:00</td>\n",
       "      <td>1450</td>\n",
       "    </tr>\n",
       "    <tr>\n",
       "      <th>48203</th>\n",
       "      <td>None</td>\n",
       "      <td>282.12</td>\n",
       "      <td>0.0</td>\n",
       "      <td>0.0</td>\n",
       "      <td>90</td>\n",
       "      <td>Clouds</td>\n",
       "      <td>overcast clouds</td>\n",
       "      <td>2018-09-30 23:00:00</td>\n",
       "      <td>954</td>\n",
       "    </tr>\n",
       "  </tbody>\n",
       "</table>\n",
       "<p>48204 rows × 9 columns</p>\n",
       "</div>"
      ],
      "text/plain": [
       "      holiday    temp  rain_1h  snow_1h  clouds_all  weather_main  \\\n",
       "0        None  288.28      0.0      0.0          40        Clouds   \n",
       "1        None  289.36      0.0      0.0          75        Clouds   \n",
       "2        None  289.58      0.0      0.0          90        Clouds   \n",
       "3        None  290.13      0.0      0.0          90        Clouds   \n",
       "4        None  291.14      0.0      0.0          75        Clouds   \n",
       "...       ...     ...      ...      ...         ...           ...   \n",
       "48199    None  283.45      0.0      0.0          75        Clouds   \n",
       "48200    None  282.76      0.0      0.0          90        Clouds   \n",
       "48201    None  282.73      0.0      0.0          90  Thunderstorm   \n",
       "48202    None  282.09      0.0      0.0          90        Clouds   \n",
       "48203    None  282.12      0.0      0.0          90        Clouds   \n",
       "\n",
       "          weather_description            date_time  traffic_volume  \n",
       "0            scattered clouds  2012-10-02 09:00:00            5545  \n",
       "1               broken clouds  2012-10-02 10:00:00            4516  \n",
       "2             overcast clouds  2012-10-02 11:00:00            4767  \n",
       "3             overcast clouds  2012-10-02 12:00:00            5026  \n",
       "4               broken clouds  2012-10-02 13:00:00            4918  \n",
       "...                       ...                  ...             ...  \n",
       "48199           broken clouds  2018-09-30 19:00:00            3543  \n",
       "48200         overcast clouds  2018-09-30 20:00:00            2781  \n",
       "48201  proximity thunderstorm  2018-09-30 21:00:00            2159  \n",
       "48202         overcast clouds  2018-09-30 22:00:00            1450  \n",
       "48203         overcast clouds  2018-09-30 23:00:00             954  \n",
       "\n",
       "[48204 rows x 9 columns]"
      ]
     },
     "execution_count": 1,
     "metadata": {},
     "output_type": "execute_result"
    }
   ],
   "source": [
    "import pandas as pd\n",
    "\n",
    "metro = pd.read_csv(\"Metro_Interstate_Traffic_Volume.csv\")\n",
    "\n",
    "metro"
   ]
  },
  {
   "cell_type": "code",
   "execution_count": 2,
   "metadata": {},
   "outputs": [
    {
     "name": "stdout",
     "output_type": "stream",
     "text": [
      "<class 'pandas.core.frame.DataFrame'>\n",
      "RangeIndex: 48204 entries, 0 to 48203\n",
      "Data columns (total 9 columns):\n",
      " #   Column               Non-Null Count  Dtype  \n",
      "---  ------               --------------  -----  \n",
      " 0   holiday              48204 non-null  object \n",
      " 1   temp                 48204 non-null  float64\n",
      " 2   rain_1h              48204 non-null  float64\n",
      " 3   snow_1h              48204 non-null  float64\n",
      " 4   clouds_all           48204 non-null  int64  \n",
      " 5   weather_main         48204 non-null  object \n",
      " 6   weather_description  48204 non-null  object \n",
      " 7   date_time            48204 non-null  object \n",
      " 8   traffic_volume       48204 non-null  int64  \n",
      "dtypes: float64(3), int64(2), object(4)\n",
      "memory usage: 3.3+ MB\n"
     ]
    }
   ],
   "source": [
    "metro.info()"
   ]
  },
  {
   "cell_type": "markdown",
   "metadata": {},
   "source": [
    "We can see that each column has 48204 values, and all of them are non-null values. The data was gathered with regards to a specific station along the I-94, and registered data from east to west. \n",
    "\n",
    "## Analyzing Traffic Volume\n",
    "\n",
    "Given that the traffic_volume column is an int64 type and takes the number of cars that crossed the station at a given hour, we can put the values in a histogram to try to gather information from its distribution. "
   ]
  },
  {
   "cell_type": "code",
   "execution_count": 3,
   "metadata": {},
   "outputs": [
    {
     "data": {
      "image/png": "[encoded data removed]",
      "text/plain": [
       "<Figure size 600x400 with 1 Axes>"
      ]
     },
     "metadata": {},
     "output_type": "display_data"
    }
   ],
   "source": [
    "import matplotlib.pyplot as plt\n",
    "%matplotlib inline\n",
    "\n",
    "metro['traffic_volume'].plot.hist()\n",
    "plt.show()"
   ]
  },
  {
   "cell_type": "code",
   "execution_count": 4,
   "metadata": {},
   "outputs": [
    {
     "data": {
      "text/plain": [
       "count    48204.000000\n",
       "mean      3259.818355\n",
       "std       1986.860670\n",
       "min          0.000000\n",
       "25%       1193.000000\n",
       "50%       3380.000000\n",
       "75%       4933.000000\n",
       "max       7280.000000\n",
       "Name: traffic_volume, dtype: float64"
      ]
     },
     "execution_count": 4,
     "metadata": {},
     "output_type": "execute_result"
    }
   ],
   "source": [
    "metro['traffic_volume'].describe()"
   ]
  },
  {
   "cell_type": "markdown",
   "metadata": {},
   "source": [
    "The distribution of the traffic_volume column is primarily left skewed. 25% of the data is contained within the first two columns on the histogram. This means that either 1193 cars or fewer were passing the station each hour, which could potentially relate to it being nighttime, and there being fewer cars out. On the other side, there were between 4933 and 7280 cars passing the station on the other 25%, which could translate to the busiest hours of the day. Daytime and nighttime could potentially influence  the traffic volume, given that this column gathers information at every hour.\n",
    "\n",
    "## Traffic Volume: Day vs. Night\n",
    "\n",
    "With the above inference in mind, we can try to analyze the trends in the data given the time that it was gathered at. We can separate the data given its time by hour. "
   ]
  },
  {
   "cell_type": "code",
   "execution_count": 5,
   "metadata": {},
   "outputs": [],
   "source": [
    "metro['date_time'] = pd.to_datetime(metro['date_time'])"
   ]
  },
  {
   "cell_type": "code",
   "execution_count": 6,
   "metadata": {},
   "outputs": [
    {
     "data": {
      "text/html": [
       "<div>\n",
       "<style scoped>\n",
       "    .dataframe tbody tr th:only-of-type {\n",
       "        vertical-align: middle;\n",
       "    }\n",
       "\n",
       "    .dataframe tbody tr th {\n",
       "        vertical-align: top;\n",
       "    }\n",
       "\n",
       "    .dataframe thead th {\n",
       "        text-align: right;\n",
       "    }\n",
       "</style>\n",
       "<table border=\"1\" class=\"dataframe\">\n",
       "  <thead>\n",
       "    <tr style=\"text-align: right;\">\n",
       "      <th></th>\n",
       "      <th>temp</th>\n",
       "      <th>rain_1h</th>\n",
       "      <th>snow_1h</th>\n",
       "      <th>clouds_all</th>\n",
       "      <th>traffic_volume</th>\n",
       "    </tr>\n",
       "  </thead>\n",
       "  <tbody>\n",
       "    <tr>\n",
       "      <th>count</th>\n",
       "      <td>23877.000000</td>\n",
       "      <td>23877.00000</td>\n",
       "      <td>23877.000000</td>\n",
       "      <td>23877.000000</td>\n",
       "      <td>23877.000000</td>\n",
       "    </tr>\n",
       "    <tr>\n",
       "      <th>mean</th>\n",
       "      <td>282.257596</td>\n",
       "      <td>0.53306</td>\n",
       "      <td>0.000253</td>\n",
       "      <td>53.122000</td>\n",
       "      <td>4762.047452</td>\n",
       "    </tr>\n",
       "    <tr>\n",
       "      <th>std</th>\n",
       "      <td>13.298885</td>\n",
       "      <td>63.62932</td>\n",
       "      <td>0.008853</td>\n",
       "      <td>37.564588</td>\n",
       "      <td>1174.546482</td>\n",
       "    </tr>\n",
       "    <tr>\n",
       "      <th>min</th>\n",
       "      <td>0.000000</td>\n",
       "      <td>0.00000</td>\n",
       "      <td>0.000000</td>\n",
       "      <td>0.000000</td>\n",
       "      <td>0.000000</td>\n",
       "    </tr>\n",
       "    <tr>\n",
       "      <th>25%</th>\n",
       "      <td>272.680000</td>\n",
       "      <td>0.00000</td>\n",
       "      <td>0.000000</td>\n",
       "      <td>5.000000</td>\n",
       "      <td>4252.000000</td>\n",
       "    </tr>\n",
       "    <tr>\n",
       "      <th>50%</th>\n",
       "      <td>283.780000</td>\n",
       "      <td>0.00000</td>\n",
       "      <td>0.000000</td>\n",
       "      <td>75.000000</td>\n",
       "      <td>4820.000000</td>\n",
       "    </tr>\n",
       "    <tr>\n",
       "      <th>75%</th>\n",
       "      <td>293.440000</td>\n",
       "      <td>0.00000</td>\n",
       "      <td>0.000000</td>\n",
       "      <td>90.000000</td>\n",
       "      <td>5559.000000</td>\n",
       "    </tr>\n",
       "    <tr>\n",
       "      <th>max</th>\n",
       "      <td>310.070000</td>\n",
       "      <td>9831.30000</td>\n",
       "      <td>0.510000</td>\n",
       "      <td>100.000000</td>\n",
       "      <td>7280.000000</td>\n",
       "    </tr>\n",
       "  </tbody>\n",
       "</table>\n",
       "</div>"
      ],
      "text/plain": [
       "               temp      rain_1h       snow_1h    clouds_all  traffic_volume\n",
       "count  23877.000000  23877.00000  23877.000000  23877.000000    23877.000000\n",
       "mean     282.257596      0.53306      0.000253     53.122000     4762.047452\n",
       "std       13.298885     63.62932      0.008853     37.564588     1174.546482\n",
       "min        0.000000      0.00000      0.000000      0.000000        0.000000\n",
       "25%      272.680000      0.00000      0.000000      5.000000     4252.000000\n",
       "50%      283.780000      0.00000      0.000000     75.000000     4820.000000\n",
       "75%      293.440000      0.00000      0.000000     90.000000     5559.000000\n",
       "max      310.070000   9831.30000      0.510000    100.000000     7280.000000"
      ]
     },
     "execution_count": 6,
     "metadata": {},
     "output_type": "execute_result"
    }
   ],
   "source": [
    "day_info = metro.copy()[(metro['date_time'].dt.hour >= 7) & (metro['date_time'].dt.hour < 19)]\n",
    "night_info = metro.copy()[(metro['date_time'].dt.hour < 7) | (metro['date_time'].dt.hour >= 19)]\n",
    "\n",
    "day_info.describe()"
   ]
  },
  {
   "cell_type": "code",
   "execution_count": 7,
   "metadata": {},
   "outputs": [
    {
     "data": {
      "text/html": [
       "<div>\n",
       "<style scoped>\n",
       "    .dataframe tbody tr th:only-of-type {\n",
       "        vertical-align: middle;\n",
       "    }\n",
       "\n",
       "    .dataframe tbody tr th {\n",
       "        vertical-align: top;\n",
       "    }\n",
       "\n",
       "    .dataframe thead th {\n",
       "        text-align: right;\n",
       "    }\n",
       "</style>\n",
       "<table border=\"1\" class=\"dataframe\">\n",
       "  <thead>\n",
       "    <tr style=\"text-align: right;\">\n",
       "      <th></th>\n",
       "      <th>temp</th>\n",
       "      <th>rain_1h</th>\n",
       "      <th>snow_1h</th>\n",
       "      <th>clouds_all</th>\n",
       "      <th>traffic_volume</th>\n",
       "    </tr>\n",
       "  </thead>\n",
       "  <tbody>\n",
       "    <tr>\n",
       "      <th>count</th>\n",
       "      <td>24327.000000</td>\n",
       "      <td>24327.000000</td>\n",
       "      <td>24327.000000</td>\n",
       "      <td>24327.000000</td>\n",
       "      <td>24327.000000</td>\n",
       "    </tr>\n",
       "    <tr>\n",
       "      <th>mean</th>\n",
       "      <td>280.173600</td>\n",
       "      <td>0.139145</td>\n",
       "      <td>0.000192</td>\n",
       "      <td>45.672011</td>\n",
       "      <td>1785.377441</td>\n",
       "    </tr>\n",
       "    <tr>\n",
       "      <th>std</th>\n",
       "      <td>13.296357</td>\n",
       "      <td>1.110872</td>\n",
       "      <td>0.007434</td>\n",
       "      <td>40.048382</td>\n",
       "      <td>1441.951197</td>\n",
       "    </tr>\n",
       "    <tr>\n",
       "      <th>min</th>\n",
       "      <td>0.000000</td>\n",
       "      <td>0.000000</td>\n",
       "      <td>0.000000</td>\n",
       "      <td>0.000000</td>\n",
       "      <td>0.000000</td>\n",
       "    </tr>\n",
       "    <tr>\n",
       "      <th>25%</th>\n",
       "      <td>271.700000</td>\n",
       "      <td>0.000000</td>\n",
       "      <td>0.000000</td>\n",
       "      <td>1.000000</td>\n",
       "      <td>530.000000</td>\n",
       "    </tr>\n",
       "    <tr>\n",
       "      <th>50%</th>\n",
       "      <td>281.379000</td>\n",
       "      <td>0.000000</td>\n",
       "      <td>0.000000</td>\n",
       "      <td>40.000000</td>\n",
       "      <td>1287.000000</td>\n",
       "    </tr>\n",
       "    <tr>\n",
       "      <th>75%</th>\n",
       "      <td>290.700000</td>\n",
       "      <td>0.000000</td>\n",
       "      <td>0.000000</td>\n",
       "      <td>90.000000</td>\n",
       "      <td>2819.000000</td>\n",
       "    </tr>\n",
       "    <tr>\n",
       "      <th>max</th>\n",
       "      <td>307.680000</td>\n",
       "      <td>55.630000</td>\n",
       "      <td>0.510000</td>\n",
       "      <td>100.000000</td>\n",
       "      <td>6386.000000</td>\n",
       "    </tr>\n",
       "  </tbody>\n",
       "</table>\n",
       "</div>"
      ],
      "text/plain": [
       "               temp       rain_1h       snow_1h    clouds_all  traffic_volume\n",
       "count  24327.000000  24327.000000  24327.000000  24327.000000    24327.000000\n",
       "mean     280.173600      0.139145      0.000192     45.672011     1785.377441\n",
       "std       13.296357      1.110872      0.007434     40.048382     1441.951197\n",
       "min        0.000000      0.000000      0.000000      0.000000        0.000000\n",
       "25%      271.700000      0.000000      0.000000      1.000000      530.000000\n",
       "50%      281.379000      0.000000      0.000000     40.000000     1287.000000\n",
       "75%      290.700000      0.000000      0.000000     90.000000     2819.000000\n",
       "max      307.680000     55.630000      0.510000    100.000000     6386.000000"
      ]
     },
     "execution_count": 7,
     "metadata": {},
     "output_type": "execute_result"
    }
   ],
   "source": [
    "night_info.describe()"
   ]
  },
  {
   "cell_type": "code",
   "execution_count": 8,
   "metadata": {},
   "outputs": [
    {
     "data": {
      "image/png": "[encoded data removed]",
      "text/plain": [
       "<Figure size 600x400 with 1 Axes>"
      ]
     },
     "metadata": {},
     "output_type": "display_data"
    },
    {
     "data": {
      "image/png": "[encoded data removed]",
      "text/plain": [
       "<Figure size 600x400 with 1 Axes>"
      ]
     },
     "metadata": {},
     "output_type": "display_data"
    }
   ],
   "source": [
    "day_info['traffic_volume'].plot.hist()\n",
    "plt.title('Daytime')\n",
    "plt.show()\n",
    "\n",
    "night_info['traffic_volume'].plot.hist()\n",
    "plt.title('Nighttime')\n",
    "plt.show()"
   ]
  },
  {
   "cell_type": "markdown",
   "metadata": {},
   "source": [
    "From the above descriptions, we can tell that the high traffic volume tends to be during the daytime hours, and the low traffic tends to be towards the nighttime. In the daytime, there are more than 4252 cars passing through the station every hour 75% of the time, and during nighttime, there are less than 2819 cars passing through the station 75% of the time. The histograms also reflect this, as the daytime histogram has most of its values in the 4000-7000 range (skewed left). The nighttime histogram, however, has most of its values in the 0-3000 range (skewed right). If our goal was to find indicators of heavy traffic, we would probably be using daytime data instead of nighttime data. "
   ]
  },
  {
   "cell_type": "markdown",
   "metadata": {},
   "source": [
    "## Time Indicators\n",
    "\n",
    "One of the possible indicators that we can look for is time. There might be more people on the road at a certain day or on certain times of the day. We are going to analyze traffic by month, day of the week, and time of day. "
   ]
  },
  {
   "cell_type": "code",
   "execution_count": 9,
   "metadata": {},
   "outputs": [
    {
     "data": {
      "image/png": "[encoded data removed]",
      "text/plain": [
       "<Figure size 600x400 with 1 Axes>"
      ]
     },
     "metadata": {},
     "output_type": "display_data"
    }
   ],
   "source": [
    "day_info['month'] = day_info['date_time'].dt.month\n",
    "by_month = day_info.groupby('month').mean()\n",
    "by_month['traffic_volume'].plot.line()\n",
    "plt.show()"
   ]
  },
  {
   "cell_type": "markdown",
   "metadata": {},
   "source": [
    "We can see that generally, in the winter months, there is less traffic on I-94, which are December and January. In the rest of the year, traffic turns to pretty steady levels, although there is an exception in July. Traffic dies down for that month before going back in August. \n",
    "\n",
    "We will now analyze the variability of traffic with regards to the day of the week. "
   ]
  },
  {
   "cell_type": "code",
   "execution_count": 10,
   "metadata": {},
   "outputs": [
    {
     "data": {
      "image/png": "[encoded data removed]",
      "text/plain": [
       "<Figure size 600x400 with 1 Axes>"
      ]
     },
     "metadata": {},
     "output_type": "display_data"
    }
   ],
   "source": [
    "day_info['dayofweek'] = day_info['date_time'].dt.dayofweek\n",
    "by_dayofweek = day_info.groupby('dayofweek').mean()\n",
    "by_dayofweek['traffic_volume'].plot.line()\n",
    "plt.show()"
   ]
  },
  {
   "cell_type": "markdown",
   "metadata": {},
   "source": [
    "Given that day 0 of the week starts correlates to Monday and day 6 of the week correlates to Sunday, we can see that there is significantly less traffic on the weekends compared to teh weekday. Traffic from Monday to Friday either increases or stays constant, and on Saturday, the number of cars that pass the I-94 decrease by nearly a thousand. On Sunday, it decreases by another 500. "
   ]
  }
 ],
 "metadata": {
  "kernelspec": {
   "display_name": "Python 3",
   "language": "python",
   "name": "python3"
  },
  "language_info": {
   "codemirror_mode": {
    "name": "ipython",
    "version": 3
   },
   "file_extension": ".py",
   "mimetype": "text/x-python",
   "name": "python",
   "nbconvert_exporter": "python",
   "pygments_lexer": "ipython3",
   "version": "3.8.2"
  }
 },
 "nbformat": 4,
 "nbformat_minor": 4
}
